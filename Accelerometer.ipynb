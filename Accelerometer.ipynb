{
 "cells": [
  {
   "cell_type": "markdown",
   "id": "1aa6927e",
   "metadata": {},
   "source": [
    "# Accelerometer Dataset\n",
    "\n",
    "This dataset was generated for use on 'Prediction of Motor Failure Time Using An Artificial Neural Network' project (DOI: 10.3390/s19194342).\n",
    "A cooler fan with weights on its blades was used to generate vibrations. To this fan cooler was attached an accelerometer \n",
    "to collect the vibration data. With this data, motor failure time predictions were made, using an artificial neural networks.\n",
    "To generate three distinct vibration scenarios, the weights were distributed in three different ways: \n",
    "    1) 'red' - normal configuration: two weight pieces positioned on neighboring blades; \n",
    "    2) 'blue' - perpendicular configuration: two weight pieces positioned on blades forming a 90Â° angle; \n",
    "    3) 'green' - opposite configuration: two weight pieces positioned on opposite blades. \n",
    "\n",
    "Devices used:\n",
    "Akasa AK-FN059 12cm Viper cooling fan (Generate the vibrations)\n",
    "MMA8452Q accelerometer (Measure vibration)\n",
    "\n",
    "Data collection method:\n",
    "17 rotation speeds were set up, ranging from 20% to 100% of the cooler maximum speed at 5% intervals; \n",
    "for the three weight distribution configurations in the cooler blades. \n",
    "Note that the Akasa AK-FN059 cooler has 1900 rpm of max rotation speed.\n",
    "\n",
    "The vibration measurements were collected at a frequency of 20 ms for 1 min for each percentage, generating 3000 records per speed.\n",
    "Thus, in total, 153,000 vibration records were collected from the simulation model."
   ]
  },
  {
   "cell_type": "markdown",
   "id": "2c0ea2b9",
   "metadata": {},
   "source": []
  },
  {
   "cell_type": "code",
   "execution_count": 1,
   "id": "8d709f65",
   "metadata": {},
   "outputs": [],
   "source": [
    "import warnings\n",
    "warnings.filterwarnings(\"ignore\")\n",
    "\n",
    "import pandas as pd\n",
    "import numpy as np\n",
    "import matplotlib.pyplot as plt\n",
    "import seaborn as sns"
   ]
  },
  {
   "cell_type": "code",
   "execution_count": 2,
   "id": "1d22d95c",
   "metadata": {},
   "outputs": [
    {
     "data": {
      "text/html": [
       "<div>\n",
       "<style scoped>\n",
       "    .dataframe tbody tr th:only-of-type {\n",
       "        vertical-align: middle;\n",
       "    }\n",
       "\n",
       "    .dataframe tbody tr th {\n",
       "        vertical-align: top;\n",
       "    }\n",
       "\n",
       "    .dataframe thead th {\n",
       "        text-align: right;\n",
       "    }\n",
       "</style>\n",
       "<table border=\"1\" class=\"dataframe\">\n",
       "  <thead>\n",
       "    <tr style=\"text-align: right;\">\n",
       "      <th></th>\n",
       "      <th>wconfid</th>\n",
       "      <th>pctid</th>\n",
       "      <th>x</th>\n",
       "      <th>y</th>\n",
       "      <th>z</th>\n",
       "    </tr>\n",
       "  </thead>\n",
       "  <tbody>\n",
       "    <tr>\n",
       "      <th>0</th>\n",
       "      <td>1</td>\n",
       "      <td>20</td>\n",
       "      <td>1.004</td>\n",
       "      <td>0.090</td>\n",
       "      <td>-0.125</td>\n",
       "    </tr>\n",
       "    <tr>\n",
       "      <th>1</th>\n",
       "      <td>1</td>\n",
       "      <td>20</td>\n",
       "      <td>1.004</td>\n",
       "      <td>-0.043</td>\n",
       "      <td>-0.125</td>\n",
       "    </tr>\n",
       "    <tr>\n",
       "      <th>2</th>\n",
       "      <td>1</td>\n",
       "      <td>20</td>\n",
       "      <td>0.969</td>\n",
       "      <td>0.090</td>\n",
       "      <td>-0.121</td>\n",
       "    </tr>\n",
       "    <tr>\n",
       "      <th>3</th>\n",
       "      <td>1</td>\n",
       "      <td>20</td>\n",
       "      <td>0.973</td>\n",
       "      <td>-0.012</td>\n",
       "      <td>-0.137</td>\n",
       "    </tr>\n",
       "    <tr>\n",
       "      <th>4</th>\n",
       "      <td>1</td>\n",
       "      <td>20</td>\n",
       "      <td>1.000</td>\n",
       "      <td>-0.016</td>\n",
       "      <td>-0.121</td>\n",
       "    </tr>\n",
       "  </tbody>\n",
       "</table>\n",
       "</div>"
      ],
      "text/plain": [
       "   wconfid  pctid      x      y      z\n",
       "0        1     20  1.004  0.090 -0.125\n",
       "1        1     20  1.004 -0.043 -0.125\n",
       "2        1     20  0.969  0.090 -0.121\n",
       "3        1     20  0.973 -0.012 -0.137\n",
       "4        1     20  1.000 -0.016 -0.121"
      ]
     },
     "execution_count": 2,
     "metadata": {},
     "output_type": "execute_result"
    }
   ],
   "source": [
    "path = \"https://archive.ics.uci.edu/ml/machine-learning-databases/00611/accelerometer.csv\"\n",
    "df = pd.read_csv(path)\n",
    "df.head()"
   ]
  },
  {
   "cell_type": "code",
   "execution_count": 3,
   "id": "dcfbcd4d",
   "metadata": {},
   "outputs": [
    {
     "name": "stdout",
     "output_type": "stream",
     "text": [
      "<class 'pandas.core.frame.DataFrame'>\n",
      "RangeIndex: 153000 entries, 0 to 152999\n",
      "Data columns (total 5 columns):\n",
      " #   Column   Non-Null Count   Dtype  \n",
      "---  ------   --------------   -----  \n",
      " 0   wconfid  153000 non-null  int64  \n",
      " 1   pctid    153000 non-null  int64  \n",
      " 2   x        153000 non-null  float64\n",
      " 3   y        153000 non-null  float64\n",
      " 4   z        153000 non-null  float64\n",
      "dtypes: float64(3), int64(2)\n",
      "memory usage: 5.8 MB\n"
     ]
    }
   ],
   "source": [
    "df.info()"
   ]
  },
  {
   "cell_type": "code",
   "execution_count": 4,
   "id": "601766b1",
   "metadata": {},
   "outputs": [
    {
     "data": {
      "text/html": [
       "<div>\n",
       "<style scoped>\n",
       "    .dataframe tbody tr th:only-of-type {\n",
       "        vertical-align: middle;\n",
       "    }\n",
       "\n",
       "    .dataframe tbody tr th {\n",
       "        vertical-align: top;\n",
       "    }\n",
       "\n",
       "    .dataframe thead th {\n",
       "        text-align: right;\n",
       "    }\n",
       "</style>\n",
       "<table border=\"1\" class=\"dataframe\">\n",
       "  <thead>\n",
       "    <tr style=\"text-align: right;\">\n",
       "      <th></th>\n",
       "      <th>wconfid</th>\n",
       "      <th>pctid</th>\n",
       "      <th>x</th>\n",
       "      <th>y</th>\n",
       "      <th>z</th>\n",
       "    </tr>\n",
       "  </thead>\n",
       "  <tbody>\n",
       "    <tr>\n",
       "      <th>count</th>\n",
       "      <td>153000.000000</td>\n",
       "      <td>153000.000000</td>\n",
       "      <td>153000.000000</td>\n",
       "      <td>153000.000000</td>\n",
       "      <td>153000.000000</td>\n",
       "    </tr>\n",
       "    <tr>\n",
       "      <th>mean</th>\n",
       "      <td>2.000000</td>\n",
       "      <td>60.000000</td>\n",
       "      <td>0.995622</td>\n",
       "      <td>0.005351</td>\n",
       "      <td>-0.117769</td>\n",
       "    </tr>\n",
       "    <tr>\n",
       "      <th>std</th>\n",
       "      <td>0.816499</td>\n",
       "      <td>24.494977</td>\n",
       "      <td>0.773958</td>\n",
       "      <td>0.742602</td>\n",
       "      <td>0.517008</td>\n",
       "    </tr>\n",
       "    <tr>\n",
       "      <th>min</th>\n",
       "      <td>1.000000</td>\n",
       "      <td>20.000000</td>\n",
       "      <td>-8.000000</td>\n",
       "      <td>-8.000000</td>\n",
       "      <td>-5.867000</td>\n",
       "    </tr>\n",
       "    <tr>\n",
       "      <th>25%</th>\n",
       "      <td>1.000000</td>\n",
       "      <td>40.000000</td>\n",
       "      <td>0.945000</td>\n",
       "      <td>-0.078000</td>\n",
       "      <td>-0.172000</td>\n",
       "    </tr>\n",
       "    <tr>\n",
       "      <th>50%</th>\n",
       "      <td>2.000000</td>\n",
       "      <td>60.000000</td>\n",
       "      <td>0.992000</td>\n",
       "      <td>0.008000</td>\n",
       "      <td>-0.125000</td>\n",
       "    </tr>\n",
       "    <tr>\n",
       "      <th>75%</th>\n",
       "      <td>3.000000</td>\n",
       "      <td>80.000000</td>\n",
       "      <td>1.039000</td>\n",
       "      <td>0.105000</td>\n",
       "      <td>-0.066000</td>\n",
       "    </tr>\n",
       "    <tr>\n",
       "      <th>max</th>\n",
       "      <td>3.000000</td>\n",
       "      <td>100.000000</td>\n",
       "      <td>7.996000</td>\n",
       "      <td>7.996000</td>\n",
       "      <td>6.086000</td>\n",
       "    </tr>\n",
       "  </tbody>\n",
       "</table>\n",
       "</div>"
      ],
      "text/plain": [
       "             wconfid          pctid              x              y  \\\n",
       "count  153000.000000  153000.000000  153000.000000  153000.000000   \n",
       "mean        2.000000      60.000000       0.995622       0.005351   \n",
       "std         0.816499      24.494977       0.773958       0.742602   \n",
       "min         1.000000      20.000000      -8.000000      -8.000000   \n",
       "25%         1.000000      40.000000       0.945000      -0.078000   \n",
       "50%         2.000000      60.000000       0.992000       0.008000   \n",
       "75%         3.000000      80.000000       1.039000       0.105000   \n",
       "max         3.000000     100.000000       7.996000       7.996000   \n",
       "\n",
       "                   z  \n",
       "count  153000.000000  \n",
       "mean       -0.117769  \n",
       "std         0.517008  \n",
       "min        -5.867000  \n",
       "25%        -0.172000  \n",
       "50%        -0.125000  \n",
       "75%        -0.066000  \n",
       "max         6.086000  "
      ]
     },
     "execution_count": 4,
     "metadata": {},
     "output_type": "execute_result"
    }
   ],
   "source": [
    "df.describe()"
   ]
  },
  {
   "cell_type": "code",
   "execution_count": 5,
   "id": "9b9e1841",
   "metadata": {},
   "outputs": [
    {
     "data": {
      "text/html": [
       "<div>\n",
       "<style scoped>\n",
       "    .dataframe tbody tr th:only-of-type {\n",
       "        vertical-align: middle;\n",
       "    }\n",
       "\n",
       "    .dataframe tbody tr th {\n",
       "        vertical-align: top;\n",
       "    }\n",
       "\n",
       "    .dataframe thead th {\n",
       "        text-align: right;\n",
       "    }\n",
       "</style>\n",
       "<table border=\"1\" class=\"dataframe\">\n",
       "  <thead>\n",
       "    <tr style=\"text-align: right;\">\n",
       "      <th></th>\n",
       "      <th>Weight_Config</th>\n",
       "      <th>CF_RPM_per</th>\n",
       "      <th>x</th>\n",
       "      <th>y</th>\n",
       "      <th>z</th>\n",
       "    </tr>\n",
       "  </thead>\n",
       "  <tbody>\n",
       "    <tr>\n",
       "      <th>0</th>\n",
       "      <td>1</td>\n",
       "      <td>20</td>\n",
       "      <td>1.004</td>\n",
       "      <td>0.090</td>\n",
       "      <td>-0.125</td>\n",
       "    </tr>\n",
       "    <tr>\n",
       "      <th>1</th>\n",
       "      <td>1</td>\n",
       "      <td>20</td>\n",
       "      <td>1.004</td>\n",
       "      <td>-0.043</td>\n",
       "      <td>-0.125</td>\n",
       "    </tr>\n",
       "    <tr>\n",
       "      <th>2</th>\n",
       "      <td>1</td>\n",
       "      <td>20</td>\n",
       "      <td>0.969</td>\n",
       "      <td>0.090</td>\n",
       "      <td>-0.121</td>\n",
       "    </tr>\n",
       "    <tr>\n",
       "      <th>3</th>\n",
       "      <td>1</td>\n",
       "      <td>20</td>\n",
       "      <td>0.973</td>\n",
       "      <td>-0.012</td>\n",
       "      <td>-0.137</td>\n",
       "    </tr>\n",
       "    <tr>\n",
       "      <th>4</th>\n",
       "      <td>1</td>\n",
       "      <td>20</td>\n",
       "      <td>1.000</td>\n",
       "      <td>-0.016</td>\n",
       "      <td>-0.121</td>\n",
       "    </tr>\n",
       "  </tbody>\n",
       "</table>\n",
       "</div>"
      ],
      "text/plain": [
       "   Weight_Config  CF_RPM_per      x      y      z\n",
       "0              1          20  1.004  0.090 -0.125\n",
       "1              1          20  1.004 -0.043 -0.125\n",
       "2              1          20  0.969  0.090 -0.121\n",
       "3              1          20  0.973 -0.012 -0.137\n",
       "4              1          20  1.000 -0.016 -0.121"
      ]
     },
     "execution_count": 5,
     "metadata": {},
     "output_type": "execute_result"
    }
   ],
   "source": [
    "df.rename(columns = {\"wconfid\":\"Weight_Config\", \"pctid\":\"CF_RPM_per\"}, inplace=True)\n",
    "df.head()"
   ]
  },
  {
   "cell_type": "code",
   "execution_count": 6,
   "id": "2c33dbc5",
   "metadata": {},
   "outputs": [],
   "source": [
    "#sns.pairplot(data=df)"
   ]
  },
  {
   "cell_type": "code",
   "execution_count": 7,
   "id": "72709cd1",
   "metadata": {},
   "outputs": [
    {
     "data": {
      "text/plain": [
       "<AxesSubplot:>"
      ]
     },
     "execution_count": 7,
     "metadata": {},
     "output_type": "execute_result"
    },
    {
     "data": {
      "image/png": "[encoded data removed]",
      "text/plain": [
       "<Figure size 432x288 with 1 Axes>"
      ]
     },
     "metadata": {
      "needs_background": "light"
     },
     "output_type": "display_data"
    }
   ],
   "source": [
    "df[\"CF_RPM_per\"].value_counts().plot(kind=\"bar\")"
   ]
  },
  {
   "cell_type": "code",
   "execution_count": 8,
   "id": "49b33fec",
   "metadata": {},
   "outputs": [
    {
     "data": {
      "text/plain": [
       "<AxesSubplot:>"
      ]
     },
     "execution_count": 8,
     "metadata": {},
     "output_type": "execute_result"
    },
    {
     "data": {
      "image/png": "[encoded data removed]",
      "text/plain": [
       "<Figure size 432x288 with 1 Axes>"
      ]
     },
     "metadata": {
      "needs_background": "light"
     },
     "output_type": "display_data"
    }
   ],
   "source": [
    "df[\"Weight_Config\"].value_counts().plot(kind=\"bar\")"
   ]
  },
  {
   "cell_type": "code",
   "execution_count": 9,
   "id": "4e76586f",
   "metadata": {},
   "outputs": [
    {
     "data": {
      "text/html": [
       "<div>\n",
       "<style scoped>\n",
       "    .dataframe tbody tr th:only-of-type {\n",
       "        vertical-align: middle;\n",
       "    }\n",
       "\n",
       "    .dataframe tbody tr th {\n",
       "        vertical-align: top;\n",
       "    }\n",
       "\n",
       "    .dataframe thead th {\n",
       "        text-align: right;\n",
       "    }\n",
       "</style>\n",
       "<table border=\"1\" class=\"dataframe\">\n",
       "  <thead>\n",
       "    <tr style=\"text-align: right;\">\n",
       "      <th></th>\n",
       "      <th>Weight_Config</th>\n",
       "      <th>CF_RPM_per</th>\n",
       "      <th>x</th>\n",
       "      <th>y</th>\n",
       "      <th>z</th>\n",
       "    </tr>\n",
       "  </thead>\n",
       "  <tbody>\n",
       "    <tr>\n",
       "      <th>Weight_Config</th>\n",
       "      <td>1.000000e+00</td>\n",
       "      <td>1.035463e-15</td>\n",
       "      <td>-0.006065</td>\n",
       "      <td>0.005371</td>\n",
       "      <td>0.002228</td>\n",
       "    </tr>\n",
       "    <tr>\n",
       "      <th>CF_RPM_per</th>\n",
       "      <td>1.035463e-15</td>\n",
       "      <td>1.000000e+00</td>\n",
       "      <td>0.002128</td>\n",
       "      <td>0.002882</td>\n",
       "      <td>0.008964</td>\n",
       "    </tr>\n",
       "    <tr>\n",
       "      <th>x</th>\n",
       "      <td>-6.065048e-03</td>\n",
       "      <td>2.128479e-03</td>\n",
       "      <td>1.000000</td>\n",
       "      <td>0.021137</td>\n",
       "      <td>-0.091164</td>\n",
       "    </tr>\n",
       "    <tr>\n",
       "      <th>y</th>\n",
       "      <td>5.371007e-03</td>\n",
       "      <td>2.881727e-03</td>\n",
       "      <td>0.021137</td>\n",
       "      <td>1.000000</td>\n",
       "      <td>-0.027716</td>\n",
       "    </tr>\n",
       "    <tr>\n",
       "      <th>z</th>\n",
       "      <td>2.228362e-03</td>\n",
       "      <td>8.964497e-03</td>\n",
       "      <td>-0.091164</td>\n",
       "      <td>-0.027716</td>\n",
       "      <td>1.000000</td>\n",
       "    </tr>\n",
       "  </tbody>\n",
       "</table>\n",
       "</div>"
      ],
      "text/plain": [
       "               Weight_Config    CF_RPM_per         x         y         z\n",
       "Weight_Config   1.000000e+00  1.035463e-15 -0.006065  0.005371  0.002228\n",
       "CF_RPM_per      1.035463e-15  1.000000e+00  0.002128  0.002882  0.008964\n",
       "x              -6.065048e-03  2.128479e-03  1.000000  0.021137 -0.091164\n",
       "y               5.371007e-03  2.881727e-03  0.021137  1.000000 -0.027716\n",
       "z               2.228362e-03  8.964497e-03 -0.091164 -0.027716  1.000000"
      ]
     },
     "execution_count": 9,
     "metadata": {},
     "output_type": "execute_result"
    }
   ],
   "source": [
    "df.corr()"
   ]
  },
  {
   "cell_type": "code",
   "execution_count": 10,
   "id": "db605ea2",
   "metadata": {},
   "outputs": [
    {
     "data": {
      "image/png": "[encoded data removed]",
      "text/plain": [
       "<Figure size 720x432 with 1 Axes>"
      ]
     },
     "metadata": {
      "needs_background": "light"
     },
     "output_type": "display_data"
    }
   ],
   "source": [
    "plt.figure(figsize=(10,6))\n",
    "\n",
    "df[\"x\"].plot(color=\"blue\")\n",
    "df[\"y\"].plot(color=\"red\")\n",
    "df[\"z\"].plot(color=\"green\")\n",
    "df[\"CF_RPM_per\"].plot(color=\"purple\")\n",
    "\n",
    "plt.xlabel(\"Count\")\n",
    "plt.ylabel(\"Vibration Frequency\")\n",
    "plt.title(\"Frequence for each Weight Configuration\")\n",
    "\n",
    "plt.grid()"
   ]
  },
  {
   "cell_type": "code",
   "execution_count": 11,
   "id": "7f2fffeb",
   "metadata": {},
   "outputs": [
    {
     "ename": "SyntaxError",
     "evalue": "invalid syntax (3358129340.py, line 1)",
     "output_type": "error",
     "traceback": [
      "\u001b[1;36m  Input \u001b[1;32mIn [11]\u001b[1;36m\u001b[0m\n\u001b[1;33m    From above it is conclusive that the concentration of vibration Frequency is concetrated\u001b[0m\n\u001b[1;37m         ^\u001b[0m\n\u001b[1;31mSyntaxError\u001b[0m\u001b[1;31m:\u001b[0m invalid syntax\n"
     ]
    }
   ],
   "source": [
    "From above it is conclusive that the concentration of vibration Frequency is concetrated "
   ]
  }
 ],
 "metadata": {
  "kernelspec": {
   "display_name": "Python 3 (ipykernel)",
   "language": "python",
   "name": "python3"
  },
  "language_info": {
   "codemirror_mode": {
    "name": "ipython",
    "version": 3
   },
   "file_extension": ".py",
   "mimetype": "text/x-python",
   "name": "python",
   "nbconvert_exporter": "python",
   "pygments_lexer": "ipython3",
   "version": "3.10.4"
  }
 },
 "nbformat": 4,
 "nbformat_minor": 5
}
